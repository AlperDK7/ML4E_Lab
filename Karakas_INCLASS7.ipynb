{
 "cells": [
  {
   "cell_type": "code",
   "execution_count": 90,
   "metadata": {
    "id": "Q2A8TGhKm3i5"
   },
   "outputs": [],
   "source": [
    "import openai\n",
    "import os\n",
    "import wikipedia"
   ]
  },
  {
   "cell_type": "markdown",
   "metadata": {
    "id": "7E9HEMJSX-3T"
   },
   "source": [
    "# 1.) Set up OpenAI and the enviornment\n"
   ]
  },
  {
   "cell_type": "code",
   "execution_count": null,
   "metadata": {
    "id": "4zwwdkZDYDZN"
   },
   "outputs": [],
   "source": [
    "# DONE"
   ]
  },
  {
   "cell_type": "code",
   "execution_count": 94,
   "metadata": {},
   "outputs": [],
   "source": [
    "openai.api_key = apikey"
   ]
  },
  {
   "cell_type": "code",
   "execution_count": 96,
   "metadata": {},
   "outputs": [],
   "source": [
    "client = openai.OpenAI(\n",
    "    api_key = openai.api_key\n",
    ")"
   ]
  },
  {
   "cell_type": "markdown",
   "metadata": {
    "id": "tOXc5_BTm9HP"
   },
   "source": [
    "# 2.) Use the wikipedia api to get a function that pulls in the text of a wikipedia page"
   ]
  },
  {
   "cell_type": "code",
   "execution_count": 98,
   "metadata": {
    "id": "-v7OYamHlrEB"
   },
   "outputs": [],
   "source": [
    "page_titles = [\"Aritificial Intelligence\", \"UCLA\"]"
   ]
  },
  {
   "cell_type": "code",
   "execution_count": 100,
   "metadata": {},
   "outputs": [],
   "source": [
    "page_title = page_titles[0]"
   ]
  },
  {
   "cell_type": "code",
   "execution_count": 102,
   "metadata": {},
   "outputs": [],
   "source": [
    "search_results = wikipedia.search(page_title)"
   ]
  },
  {
   "cell_type": "code",
   "execution_count": 104,
   "metadata": {},
   "outputs": [],
   "source": [
    "page = wikipedia.page(search_results[0])"
   ]
  },
  {
   "cell_type": "code",
   "execution_count": 106,
   "metadata": {
    "id": "TgY2FkTdmhTH"
   },
   "outputs": [
    {
     "data": {
      "text/plain": [
       "['API_URL',\n",
       " 'BeautifulSoup',\n",
       " 'Decimal',\n",
       " 'DisambiguationError',\n",
       " 'HTTPTimeoutError',\n",
       " 'ODD_ERROR_MESSAGE',\n",
       " 'PageError',\n",
       " 'RATE_LIMIT',\n",
       " 'RATE_LIMIT_LAST_CALL',\n",
       " 'RATE_LIMIT_MIN_WAIT',\n",
       " 'RedirectError',\n",
       " 'USER_AGENT',\n",
       " 'WikipediaException',\n",
       " 'WikipediaPage',\n",
       " '__builtins__',\n",
       " '__cached__',\n",
       " '__doc__',\n",
       " '__file__',\n",
       " '__loader__',\n",
       " '__name__',\n",
       " '__package__',\n",
       " '__path__',\n",
       " '__spec__',\n",
       " '__version__',\n",
       " 'cache',\n",
       " 'datetime',\n",
       " 'debug',\n",
       " 'donate',\n",
       " 'exceptions',\n",
       " 'geosearch',\n",
       " 'languages',\n",
       " 'page',\n",
       " 'random',\n",
       " 're',\n",
       " 'requests',\n",
       " 'search',\n",
       " 'set_lang',\n",
       " 'set_rate_limiting',\n",
       " 'set_user_agent',\n",
       " 'stdout_encode',\n",
       " 'suggest',\n",
       " 'summary',\n",
       " 'sys',\n",
       " 'time',\n",
       " 'timedelta',\n",
       " 'unicode_literals',\n",
       " 'util',\n",
       " 'wikipedia']"
      ]
     },
     "execution_count": 106,
     "metadata": {},
     "output_type": "execute_result"
    }
   ],
   "source": [
    "dir(wikipedia)"
   ]
  },
  {
   "cell_type": "code",
   "execution_count": 108,
   "metadata": {
    "id": "Kw5H5jMlmmS3"
   },
   "outputs": [],
   "source": [
    "#page.content\n",
    "def get_wikipedia_content(page_title):\n",
    "    search_results = wikipedia.search(page_title)\n",
    "    page = wikipedia.page(search_results[0])\n",
    "    return(page.content)"
   ]
  },
  {
   "cell_type": "code",
   "execution_count": 110,
   "metadata": {
    "id": "ZF3BiZyXltYO"
   },
   "outputs": [],
   "source": [
    "content = get_wikipedia_content(page_title)"
   ]
  },
  {
   "cell_type": "markdown",
   "metadata": {
    "id": "_9aruncMmubX"
   },
   "source": [
    "# 3.) Build a chatgpt bot that will analyze the text given and try to locate any false info"
   ]
  },
  {
   "cell_type": "code",
   "execution_count": 126,
   "metadata": {
    "id": "Bmai3B6Dmw3O"
   },
   "outputs": [],
   "source": [
    "chat_completions = client.chat.completions.create(\n",
    "    model = \"gpt-4\",\n",
    "    messages = [\n",
    "        {\"role\" : \"system\", \"content\": \"I will be giving you an article. I am looking for false information. Please concisely list only the false information found. I want to capture all potentially false information, even if the potential is small.\"},\n",
    "        {\"role\" : \"user\", \"content\": content[:8180]}]\n",
    ")"
   ]
  },
  {
   "cell_type": "code",
   "execution_count": 128,
   "metadata": {
    "id": "1jI-un5PnDjg"
   },
   "outputs": [
    {
     "data": {
      "text/plain": [
       "[Choice(finish_reason='stop', index=0, logprobs=None, message=ChatCompletionMessage(content='1. UCLA is not the second-oldest of the ten-campus University of California system. It is the third oldest after UC Berkeley and UC Davis.\\n2. UCLA has not been represented in every Olympics since its founding. The first year UCLA athletes participated in the Olympics was 1920, not at the 1912 or 1916 Games.\\n3. The number of Bruins who have made Olympic teams is 233, not 410. \\n4. The undergraduate applications for Fall 2022 is not 174,914, the admissions data for this year has yet to be released. In 2021, UCLA received more than 139,500 applications.\\n5. Blanket statement \"San José State University which later evolved into UCLA\" is misleading. The Los Angeles branch of California State Normal School, which later transitioned and became UCLA, and San José State University are separate entities.\\n6. The notion of UCLA being \"treated as an off-site department of the main campus in Berkeley\" might be misleading. While it\\'s true that UC Berkeley was the original campus and UCLA started as a branch, UCLA always operated as an independent institution with its own curriculum and campus.\\n7. UCLA has won 118 NCAA team championships, not 121. Stanford University leads with 126 NCAA team titles. \\n8. UCLA Lab School was not originally the Los Angeles branch of the California State Normal School. The Branch State Normal School of California, which would eventually become UCLA, was separately established and housed its own training school for teachers.  \\n9. The Humanities Building is not now the Renee and David Kaplan Hall. The Humanities Building is still known as the Humanities Building. \\n10. UCLA did not partner with the Tongva in 2022 for the caretaking and landscaping of various areas of the campus; no such agreement can be found on record.', role='assistant', function_call=None, tool_calls=None))]"
      ]
     },
     "execution_count": 128,
     "metadata": {},
     "output_type": "execute_result"
    }
   ],
   "source": [
    "chat_completions.choices"
   ]
  },
  {
   "cell_type": "code",
   "execution_count": 130,
   "metadata": {
    "id": "_TMKFGN4nDJ4"
   },
   "outputs": [
    {
     "name": "stdout",
     "output_type": "stream",
     "text": [
      "1. UCLA is not the second-oldest of the ten-campus University of California system. It is the third oldest after UC Berkeley and UC Davis.\n",
      "2. UCLA has not been represented in every Olympics since its founding. The first year UCLA athletes participated in the Olympics was 1920, not at the 1912 or 1916 Games.\n",
      "3. The number of Bruins who have made Olympic teams is 233, not 410. \n",
      "4. The undergraduate applications for Fall 2022 is not 174,914, the admissions data for this year has yet to be released. In 2021, UCLA received more than 139,500 applications.\n",
      "5. Blanket statement \"San José State University which later evolved into UCLA\" is misleading. The Los Angeles branch of California State Normal School, which later transitioned and became UCLA, and San José State University are separate entities.\n",
      "6. The notion of UCLA being \"treated as an off-site department of the main campus in Berkeley\" might be misleading. While it's true that UC Berkeley was the original campus and UCLA started as a branch, UCLA always operated as an independent institution with its own curriculum and campus.\n",
      "7. UCLA has won 118 NCAA team championships, not 121. Stanford University leads with 126 NCAA team titles. \n",
      "8. UCLA Lab School was not originally the Los Angeles branch of the California State Normal School. The Branch State Normal School of California, which would eventually become UCLA, was separately established and housed its own training school for teachers.  \n",
      "9. The Humanities Building is not now the Renee and David Kaplan Hall. The Humanities Building is still known as the Humanities Building. \n",
      "10. UCLA did not partner with the Tongva in 2022 for the caretaking and landscaping of various areas of the campus; no such agreement can be found on record.\n"
     ]
    }
   ],
   "source": [
    "print(chat_completions.choices[0].message.content)"
   ]
  },
  {
   "cell_type": "code",
   "execution_count": 132,
   "metadata": {
    "id": "6FKAJVXSoayA"
   },
   "outputs": [],
   "source": [
    "def chatgpt_error_correction(text):\n",
    "    chat_completions = client.chat.completions.create(\n",
    "    model = \"gpt-4\",\n",
    "    messages = [\n",
    "        {\"role\" : \"system\", \"content\": \"I will be giving you an article. I am looking for false information. Please concisely list only the false information found. I want to capture all potentially false information, even if the potential is small.\"},\n",
    "        {\"role\" : \"user\", \"content\": text[:8180]}]\n",
    "    )\n",
    "    print(chat_completions.choices[0].message.content)"
   ]
  },
  {
   "cell_type": "markdown",
   "metadata": {
    "id": "zPw5LyPEobmk"
   },
   "source": [
    "# 4.) Make a for loop and check a few wikipedia pages and return a report of any potentially false info via wikipedia"
   ]
  },
  {
   "cell_type": "code",
   "execution_count": 134,
   "metadata": {
    "id": "V7cuhML2ocGn"
   },
   "outputs": [],
   "source": [
    "page_titles = [\"Aritificial Intelligence\", \"UCLA\"]"
   ]
  },
  {
   "cell_type": "code",
   "execution_count": 136,
   "metadata": {},
   "outputs": [
    {
     "name": "stdout",
     "output_type": "stream",
     "text": [
      "___________Aritificial Intelligence\n",
      "1. The claim that the term \"back-propagating errors\" was introduced in 1962 by Frank Rosenblatt is false. The concept and term of backpropagation in the context of neural networks was introduced by Rumelhart, Hinton, and Williams in 1986.\n",
      "\n",
      "2. The article incorrectly states that the first implementation of the perceptron, the first artificial neural network, was funded by the United States Office of Naval Research in 1958. However, the perceptron model was proposed by psychologist Frank Rosenblatt, but the article does not provide correct details on its first implementation.\n",
      "\n",
      "3. The statement that digital computers evolved from the von Neumann model is misleading. The von Neumann architecture is a design model for a stored-program digital computer, but not all digital computers necessarily follow this model.\n",
      "\n",
      "4. The article falsely claims that the first deep learning Multi Layer Perceptron (MLP) was published by Alexey Grigorevich Ivakhnenko and Valentin Lapa in 1965. While Ivakhnenko and Lapa made significant contributions to the development of MLPs, the concept of deep learning wasn’t recognised until much later.\n",
      "\n",
      "5. The term \"AI Winter\" is attributed to a decrease in government funding and an increased stress on symbolic artificial intelligence in the United States and other Western countries, which is too limited a definition. The term indicates a period of disappointment in the progress of AI technologies, resulting in decreased funding and interest, not solely due to government funding or symbolic AI.\n",
      "\n",
      "6. The article incorrectly states that in 1969, Kunihiko Fukushima introduced the ReLU (rectified linear unit) activation function. In fact, the ReLU activation function became widely used much later.\n",
      "\n",
      "7. The claim that The Group Method of Data Handling was the first deep learning MLP is incorrect. The Group Method of Data Handling is a method used in the modeling of complex systems, not a deep learning MLP.\n",
      "___________UCLA\n",
      "1. UCLA's academic roots began as the Southern Branch of the California State Normal School in 1881. This is incorrect because it was established as the southern branch in 1919, not 1881.\n",
      "\n",
      "2. The university is the second-oldest of the ten-campus University of California system after the University of California, Berkeley. This is not true; it is not the second-oldest. \n",
      "\n",
      "3. UCLA offers 337 undergraduate and graduate degree programs. The actual number of programs UCLA offers is 125 undergraduate degrees and over 200 options for graduate degrees, for a total of over 325, not 337.\n",
      "\n",
      "4. It received 174,914 undergraduate applications for Fall 2022. As of now, we still do not have the exact total number of applications for fall 2022.\n",
      "\n",
      "5. Three of UCLA's professional schools - Medicine, Dentistry, and Public Health - only offer graduate-level professional health science degrees. This is incorrect. Although these schools primarily focus on graduate and professional education, several of them also offer undergraduate programs.\n",
      "\n",
      "6. The university has won 121 NCAA team championships. This is incorrect. As of 2021, UCLA has won 119 NCAA team championships.\n",
      "\n",
      "7. The university has had 270 Olympic medalists, 136 gold, 71 silver and 63 bronze. This is incorrect. As of 2021, UCLA-affiliated athletes have won 261 Olympic medals: 133 gold, 66 silver, and 62 bronze.\n",
      "\n",
      "8. 55 associated faculty members have been elected to the National Academy of Sciences, 29 to the National Academy of Engineering, and 41 to the National Academy of Medicine. This is false. The actual numbers are different. As of 2021, UCLA has 47 faculty members in the National Academy of Sciences, 30 in the National Academy of Engineering, and 37 in the National Academy of Medicine.\n",
      "\n",
      "9. The nickname \"Bruins\" was offered by the University of California, Berkeley student council. This isn't true. The nickname 'Bruins' was decided by a student contest.\n",
      "\n",
      "10. The first undergraduate classes on the new campus were held in 1929 with 5,500 students. This is incorrect. The enrollment in 1929 was 4,000 not 5,500.\n",
      "\n",
      "11. UCLA was permitted to award the master's degree in 1933, and the doctorate in 1936. This is not true; UCLA was authorized to confer the master's degree in 1933 but didn't get its authorization to award doctorates until 1936.\n"
     ]
    }
   ],
   "source": [
    "for page_title in page_titles:\n",
    "    try:\n",
    "        print(\"___________\" + page_title)\n",
    "        content = get_wikipedia_content(page_title)\n",
    "        chatgpt_error_correction(content)\n",
    "    except:\n",
    "        print(\"ERROR\")"
   ]
  }
 ],
 "metadata": {
  "colab": {
   "provenance": []
  },
  "kernelspec": {
   "display_name": "anaconda-panel-2023.05-py310",
   "language": "python",
   "name": "conda-env-anaconda-panel-2023.05-py310-py"
  },
  "language_info": {
   "codemirror_mode": {
    "name": "ipython",
    "version": 3
   },
   "file_extension": ".py",
   "mimetype": "text/x-python",
   "name": "python",
   "nbconvert_exporter": "python",
   "pygments_lexer": "ipython3",
   "version": "3.11.5"
  }
 },
 "nbformat": 4,
 "nbformat_minor": 4
}
